{
 "cells": [
  {
   "cell_type": "markdown",
   "metadata": {},
   "source": [
    "Hyperparameter Tuning Example for Self-Organizing Maps (SOM)\n",
    "===========================================================\n",
    "\n",
    "This script demonstrates how to use the SOM class to perform hyperparameter tuning. By defining a\n",
    "grid of hyperparameters and systematically testing all combinations, the script identifies the\n",
    "optimal configuration of hyperparameters for a given dataset.\n",
    "\n",
    "Features of This Script:\n",
    "-------------------------\n",
    "1. Grid Search Implementation:\n",
    "    - Hyperparameters such as `scale_method`, `x_dim`, `y_dim`, `topology`, `neighborhood_fnc`,\n",
    "      and `epochs` are systematically tested over a predefined range of values.\n",
    "    - The metrics Percent Variance Explained (PVE) and Topographic Error are combined into\n",
    "      a scoring function to evaluate the SOM's performance for each combination.\n",
    "\n",
    "2. Ease of Use:\n",
    "    - The script leverages Python's `itertools.product` for a clean and systematic exploration of\n",
    "      hyperparameter combinations.\n",
    "    - Metrics are calculated using the SOM class' built-in methods, making the evaluation process\n",
    "      seamless.\n",
    "\n",
    "3. Visualization of Results:\n",
    "    - Once the best hyperparameters are identified, the SOM is retrained, and component planes\n",
    "      and categorical data distributions are visualized and saved.\n",
    "\n",
    "Considerations:\n",
    "---------------\n",
    "- Time Complexity:\n",
    "    - Depending on the size of the dataset and the number of hyperparameter combinations, this \n",
    "      process may take significant time. Adjust the ranges of the hyperparameters to balance \n",
    "      between thoroughness and computational efficiency.\n",
    "    \n",
    "- Extensibility:\n",
    "    - The scoring function can be adjusted based on specific requirements. In this example, the \n",
    "      score is computed as PVE minus a scaled Topographic Error.\n",
    "\n",
    "Output:\n",
    "-------\n",
    "- Best hyperparameters and their resulting score\n",
    "- Final SOM trained with the best parameters.\n",
    "- Saved visualizations of component planes and categorical data distributions.\n",
    "\n",
    "Usage:\n",
    "------\n",
    "Modify the dataset path and hyperparameter grid as needed."
   ]
  },
  {
   "cell_type": "markdown",
   "metadata": {},
   "source": [
    "# 1. Imports"
   ]
  },
  {
   "cell_type": "code",
   "execution_count": null,
   "metadata": {},
   "outputs": [],
   "source": [
    "# Standard imports\n",
    "import itertools\n",
    "import os\n",
    "import sys\n",
    "\n",
    "# Third party imports\n",
    "import pandas as pd\n",
    "\n",
    "# Local imports\n",
    "sys.path.append(os.path.abspath(os.path.join(os.path.dirname(__file__), '..', '..')))\n",
    "from SOM.utils.som_utils import SOM"
   ]
  },
  {
   "cell_type": "markdown",
   "metadata": {},
   "source": [
    "# 2. Load Data"
   ]
  },
  {
   "cell_type": "code",
   "execution_count": null,
   "metadata": {},
   "outputs": [],
   "source": [
    "# Load data\n",
    "train_dat = pd.read_csv(\"../../data/titanic_training_data.csv\")\n",
    "other_dat = pd.read_csv(\"../../data/titanic_categorical_data.csv\")"
   ]
  },
  {
   "cell_type": "markdown",
   "metadata": {},
   "source": [
    "# 3. Define Hyperparameters"
   ]
  },
  {
   "cell_type": "code",
   "execution_count": null,
   "metadata": {},
   "outputs": [],
   "source": [
    "# Define hyperparameter grid\n",
    "hyperparameter_grid = {\n",
    "    \"scale_method\": [\"zscore\", \"minmax\"],\n",
    "    \"x_dim\": [3, 5, 7],\n",
    "    \"y_dim\": [2, 4, 6],\n",
    "    \"topology\": [\"rectangular\", \"hexagonal\"],\n",
    "    \"neighborhood_fnc\": [\"gaussian\", \"bubble\"],\n",
    "    \"epochs\": [50, 100, 200],\n",
    "}\n",
    "\n",
    "# Initialize variables to store the best parameters and score\n",
    "best_params = None\n",
    "best_score = -float(\"inf\")"
   ]
  },
  {
   "cell_type": "markdown",
   "metadata": {},
   "source": [
    "# 4. Grid Search for Optimal Parameters"
   ]
  },
  {
   "cell_type": "code",
   "execution_count": null,
   "metadata": {},
   "outputs": [],
   "source": [
    "for params in itertools.product(\n",
    "    hyperparameter_grid[\"scale_method\"],\n",
    "    hyperparameter_grid[\"x_dim\"],\n",
    "    hyperparameter_grid[\"y_dim\"],\n",
    "    hyperparameter_grid[\"topology\"],\n",
    "    hyperparameter_grid[\"neighborhood_fnc\"],\n",
    "    hyperparameter_grid[\"epochs\"],\n",
    "):\n",
    "    scale_method, x_dim, y_dim, topology, neighborhood_fnc, epochs = params\n",
    "\n",
    "    # Train SOM with the current hyperparameter combination\n",
    "    som = SOM(\n",
    "        train_dat=train_dat,\n",
    "        other_dat=other_dat,\n",
    "        scale_method=scale_method,\n",
    "        x_dim=x_dim,\n",
    "        y_dim=y_dim,\n",
    "        topology=topology,\n",
    "        neighborhood_fnc=neighborhood_fnc,\n",
    "        epochs=epochs,\n",
    "    )\n",
    "    som.train_map()\n",
    "\n",
    "    # Calculate evaluation metrics\n",
    "    pve = som.calculate_percent_variance_explained()\n",
    "    topographic_error = som.calculate_topographic_error()\n",
    "\n",
    "    # Combine metrics into a single score (higher PVE and lower error are better)\n",
    "    score = pve - topographic_error * 100\n",
    "\n",
    "    print(f\"Tested params: {params} | Score: {score:.2f}\")\n",
    "\n",
    "    # Update the best parameters if the current score is better\n",
    "    if score > best_score:\n",
    "        best_score = score\n",
    "        best_params = params"
   ]
  },
  {
   "cell_type": "markdown",
   "metadata": {},
   "source": [
    "# 5. Show the best parameters"
   ]
  },
  {
   "cell_type": "code",
   "execution_count": null,
   "metadata": {},
   "outputs": [],
   "source": [
    "# Output the best hyperparameters\n",
    "print(\"\\nBest Hyperparameters:\")\n",
    "print(f\"Scale Method: {best_params[0]}\")\n",
    "print(f\"x_dim: {best_params[1]}\")\n",
    "print(f\"y_dim: {best_params[2]}\")\n",
    "print(f\"Topology: {best_params[3]}\")\n",
    "print(f\"Neighborhood Function: {best_params[4]}\")\n",
    "print(f\"Epochs: {best_params[5]}\")\n",
    "print(f\"Best Score: {best_score:.2f}\")"
   ]
  },
  {
   "cell_type": "markdown",
   "metadata": {},
   "source": [
    "# 6. Train SOM"
   ]
  },
  {
   "cell_type": "code",
   "execution_count": null,
   "metadata": {},
   "outputs": [],
   "source": [
    "# Train and visualize the best SOM\n",
    "best_som = SOM(\n",
    "    train_dat=train_dat,\n",
    "    other_dat=other_dat,\n",
    "    scale_method=best_params[0],\n",
    "    x_dim=best_params[1],\n",
    "    y_dim=best_params[2],\n",
    "    topology=best_params[3],\n",
    "    neighborhood_fnc=best_params[4],\n",
    "    epochs=best_params[5],\n",
    ")\n",
    "best_som.train_map()"
   ]
  },
  {
   "cell_type": "markdown",
   "metadata": {},
   "source": [
    "# 7. Get the Fit Metrics"
   ]
  },
  {
   "cell_type": "code",
   "execution_count": null,
   "metadata": {},
   "outputs": [],
   "source": [
    "# Get fit metrics\n",
    "pve = best_som.calculate_percent_variance_explained()\n",
    "topographic_error = best_som.calculate_topographic_error()\n",
    "\n",
    "print(\"\\nFinal SOM Performance:\")\n",
    "print(f\"Percent variance explained = {pve}%\")\n",
    "print(f\"Topographic error = {topographic_error}\")"
   ]
  },
  {
   "cell_type": "markdown",
   "metadata": {},
   "source": [
    "# 8. Plot SOM's"
   ]
  },
  {
   "cell_type": "code",
   "execution_count": null,
   "metadata": {},
   "outputs": [],
   "source": [
    "# Plot component planes\n",
    "best_som.plot_component_planes(output_dir=\"output/titanic\")\n",
    "\n",
    "# Plot SOM Map Using Categorical Data\n",
    "best_som.plot_categorical_data(output_dir=\"output/titanic\")"
   ]
  }
 ],
 "metadata": {
  "kernelspec": {
   "display_name": "Python 3",
   "language": "python",
   "name": "python3"
  },
  "language_info": {
   "name": "python",
   "version": "3.12.6"
  }
 },
 "nbformat": 4,
 "nbformat_minor": 2
}
