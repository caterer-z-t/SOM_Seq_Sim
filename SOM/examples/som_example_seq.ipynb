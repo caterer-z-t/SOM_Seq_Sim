{
 "cells": [
  {
   "cell_type": "markdown",
   "metadata": {},
   "source": [
    "Application of Self-Organizing Maps (SOM) for Cell Type Identification\n",
    "======================================================================\n",
    "\n",
    "This script demonstrates the original application for which the SOM class and associated project \n",
    "were developed: identifying different cell types based on simulated single-cell data. By training \n",
    "a Self-Organizing Map (SOM) on high-dimensional data, this script allows for efficient clustering \n",
    "and visualization of different cell types.\n",
    "\n",
    "Key Features:\n",
    "-------------\n",
    "1. Application-Specific Data:\n",
    "    - The training data represents pseudo-features derived from simulated single-cell experiments.\n",
    "    - Additional data (`other_dat`) includes the cell type (and other categorical data) labels for\n",
    "      visualizing categorical clustering results.\n",
    "\n",
    "2. Visualization of Results:\n",
    "    - The SOM grid is used to map and visualize cell-type distributions.\n",
    "    - By examining the output figures, it becomes evident that the SOM successfully identifies \n",
    "      distinct cell types based on the input data.\n",
    "\n",
    "3. Efficient Handling of High-Dimensional Data:\n",
    "    - The SOM can handle 1000 features in the training data, making it suitable for large-scale \n",
    "      single-cell datasets.\n",
    "\n",
    "Considerations:\n",
    "---------------\n",
    "1. Output Figures:\n",
    "    - Generating component planes for all 1000 features produces a large number of figures. \n",
    "      Uncomment the relevant section of the script to enable this visualization if desired.\n",
    "\n",
    "2. Cell Type Identification:\n",
    "    - The SOM's ability to separate and group different cell types can be verified by analyzing the \n",
    "      categorical data visualizations. Each cell type forms distinct clusters, demonstrating the\n",
    "      SOM's effectiveness in preserving topology and capturing meaningful patterns in high-\n",
    "      dimensional data."
   ]
  },
  {
   "cell_type": "markdown",
   "metadata": {},
   "source": [
    "# 1. Imports"
   ]
  },
  {
   "cell_type": "code",
   "execution_count": null,
   "metadata": {},
   "outputs": [],
   "source": [
    "# Standard imports\n",
    "import os\n",
    "import sys\n",
    "\n",
    "# Third party imports\n",
    "import pandas as pd\n",
    "\n",
    "# Local imports\n",
    "sys.path.append(os.path.abspath(os.path.join(os.path.dirname(__file__), '..', '..')))\n",
    "from SOM.utils.som_utils import SOM"
   ]
  },
  {
   "cell_type": "markdown",
   "metadata": {},
   "source": [
    "# 2. Load Data"
   ]
  },
  {
   "cell_type": "code",
   "execution_count": null,
   "metadata": {},
   "outputs": [],
   "source": [
    "# Load data\n",
    "train_dat = pd.read_csv(\"../../data/seq_sim_training_data.csv\")\n",
    "other_dat = pd.read_csv(\"../../data/seq_sim_categorical_data.csv\")"
   ]
  },
  {
   "cell_type": "markdown",
   "metadata": {},
   "source": [
    "# 3. Train SOM"
   ]
  },
  {
   "cell_type": "code",
   "execution_count": null,
   "metadata": {},
   "outputs": [],
   "source": [
    "# Train SOM\n",
    "som = SOM(\n",
    "    train_dat=train_dat,\n",
    "    other_dat=other_dat,\n",
    "    scale_method=\"zscore\",\n",
    "    x_dim=4,\n",
    "    y_dim=3,\n",
    "    topology=\"hexagonal\",\n",
    "    neighborhood_fnc=\"gaussian\",\n",
    "    epochs=20\n",
    ")\n",
    "\n",
    "# Train SOM Map\n",
    "som.train_map()"
   ]
  },
  {
   "cell_type": "markdown",
   "metadata": {},
   "source": [
    "# 4. Plot SOM's"
   ]
  },
  {
   "cell_type": "code",
   "execution_count": null,
   "metadata": {},
   "outputs": [],
   "source": [
    "# Since there are 1000  features, this creates 1000 figures. Uncomment if you want to create\n",
    "# these figures\n",
    "# som.plot_component_planes(\n",
    "#     output_dir=\"output/seq\"\n",
    "# )\n",
    "\n",
    "# Plot SOM Map Using Categorical Data\n",
    "som.plot_categorical_data(\n",
    "    output_dir=\"output/seq\"\n",
    ")"
   ]
  }
 ],
 "metadata": {
  "kernelspec": {
   "display_name": "Python 3",
   "language": "python",
   "name": "python3"
  },
  "language_info": {
   "name": "python",
   "version": "3.12.6"
  }
 },
 "nbformat": 4,
 "nbformat_minor": 2
}
